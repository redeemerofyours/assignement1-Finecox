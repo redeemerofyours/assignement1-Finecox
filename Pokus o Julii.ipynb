{
 "cells": [
  {
   "cell_type": "code",
   "execution_count": 1,
   "id": "8b15909f-a719-49a0-947a-aae2dbff74b7",
   "metadata": {},
   "outputs": [
    {
     "name": "stderr",
     "output_type": "stream",
     "text": [
      "\u001b[32m\u001b[1m  Activating\u001b[22m\u001b[39m new project at `c:\\Users\\jachy\\OneDrive\\IES\\mgr\\3.semestr\\Fineco`\n"
     ]
    }
   ],
   "source": [
    "import Pkg\n",
    "Pkg.activate(\"..\")\n",
    "\n",
    "\n"
   ]
  },
  {
   "cell_type": "code",
   "execution_count": null,
   "id": "58d29261-caea-4fdd-8c8f-5005e5395d0d",
   "metadata": {},
   "outputs": [
    {
     "name": "stdout",
     "output_type": "stream",
     "text": [
      "\u001b[32m\u001b[1mStatus\u001b[22m\u001b[39m `C:\\Users\\jachy\\OneDrive\\IES\\mgr\\3.semestr\\Fineco\\Project.toml` (empty project)\n"
     ]
    }
   ],
   "source": [
    "Pkg.status()"
   ]
  },
  {
   "cell_type": "code",
   "execution_count": 3,
   "id": "1e57f8e1",
   "metadata": {},
   "outputs": [
    {
     "name": "stderr",
     "output_type": "stream",
     "text": [
      "\u001b[32m\u001b[1m   Resolving\u001b[22m\u001b[39m package versions...\n",
      "\u001b[32m\u001b[1m    Updating\u001b[22m\u001b[39m `C:\\Users\\jachy\\.julia\\environments\\v1.12\\Project.toml`\n",
      "  \u001b[90m[634d3b9d] \u001b[39m\u001b[92m+ DrWatson v2.19.1\u001b[39m\n",
      "\u001b[32m\u001b[1m    Updating\u001b[22m\u001b[39m `C:\\Users\\jachy\\.julia\\environments\\v1.12\\Manifest.toml`\n",
      "  \u001b[90m[0b6fb165] \u001b[39m\u001b[92m+ ChunkCodecCore v1.0.0\u001b[39m\n",
      "  \u001b[90m[4c0bbee4] \u001b[39m\u001b[92m+ ChunkCodecLibZlib v1.0.0\u001b[39m\n",
      "  \u001b[90m[55437552] \u001b[39m\u001b[92m+ ChunkCodecLibZstd v1.0.0\u001b[39m\n",
      "  \u001b[90m[634d3b9d] \u001b[39m\u001b[92m+ DrWatson v2.19.1\u001b[39m\n",
      "  \u001b[90m[5789e2e9] \u001b[39m\u001b[92m+ FileIO v1.17.1\u001b[39m\n",
      "  \u001b[90m[076d061b] \u001b[39m\u001b[92m+ HashArrayMappedTries v0.2.0\u001b[39m\n",
      "  \u001b[90m[033835bb] \u001b[39m\u001b[92m+ JLD2 v0.6.2\u001b[39m\n",
      "  \u001b[90m[7e506255] \u001b[39m\u001b[92m+ ScopedValues v1.5.0\u001b[39m\n",
      "\u001b[32m\u001b[1mPrecompiling\u001b[22m\u001b[39m packages...\n",
      "   2683.7 ms\u001b[32m  ✓ \u001b[39mPlots → FileIOExt\n",
      "  1 dependency successfully precompiled in 5 seconds. 241 already precompiled.\n"
     ]
    }
   ],
   "source": [
    "import Pkg\n",
    "Pkg.add(\"DrWatson\")"
   ]
  },
  {
   "cell_type": "code",
   "execution_count": null,
   "id": "8b2bd031",
   "metadata": {},
   "outputs": [],
   "source": [
    "# using DrWatson\n",
    "# initialize_project(\"Assignment1\"; authors = \"Jáchym Janů\")\n",
    "# Pkg.add([\"Distributions\", \"Plots\", \"ForwardDiff\" , \"Optim\" , \"MarketData\" , \"YFinance\" , \"ARCHModels\"])"
   ]
  },
  {
   "cell_type": "code",
   "execution_count": 6,
   "id": "56b17469-b5c8-4bf5-a26f-98e2ad33b5d9",
   "metadata": {},
   "outputs": [],
   "source": [
    "using Distributions\n",
    "using Plots\n",
    "using ForwardDiff\n",
    "using Optim\n",
    "using MarketData\n",
    "using YFinance\n",
    "using ARCHModels"
   ]
  },
  {
   "cell_type": "code",
   "execution_count": null,
   "id": "c1d8de98-8d81-4e5f-8804-6f388bb90cbb",
   "metadata": {},
   "outputs": [],
   "source": []
  },
  {
   "cell_type": "code",
   "execution_count": null,
   "id": "52d423ac-707a-4bcd-85d2-fd047f913937",
   "metadata": {},
   "outputs": [],
   "source": []
  }
 ],
 "metadata": {
  "kernelspec": {
   "display_name": "Julia 1.12.1",
   "language": "julia",
   "name": "julia-1.12"
  },
  "language_info": {
   "file_extension": ".jl",
   "mimetype": "application/julia",
   "name": "julia",
   "version": "1.12.1"
  }
 },
 "nbformat": 4,
 "nbformat_minor": 5
}
