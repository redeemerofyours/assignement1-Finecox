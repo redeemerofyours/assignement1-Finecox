{
 "cells": [
  {
   "cell_type": "code",
   "execution_count": 1,
   "id": "8b15909f-a719-49a0-947a-aae2dbff74b7",
   "metadata": {},
   "outputs": [
    {
     "name": "stderr",
     "output_type": "stream",
     "text": [
      "\u001b[32m\u001b[1m  Activating\u001b[22m\u001b[39m new project at `c:\\Users\\jachy\\OneDrive\\IES\\mgr\\3.semestr\\Fineco\\assignement1`\n"
     ]
    }
   ],
   "source": [
    "import Pkg\n",
    "Pkg.activate(\".\")\n",
    "\n",
    "\n"
   ]
  },
  {
   "cell_type": "code",
   "execution_count": 2,
   "id": "58d29261-caea-4fdd-8c8f-5005e5395d0d",
   "metadata": {},
   "outputs": [
    {
     "name": "stdout",
     "output_type": "stream",
     "text": [
      "\u001b[32m\u001b[1mStatus\u001b[22m\u001b[39m `C:\\Users\\jachy\\OneDrive\\IES\\mgr\\3.semestr\\Fineco\\assignement1\\Project.toml` (empty project)\n"
     ]
    }
   ],
   "source": [
    "Pkg.status()"
   ]
  },
  {
   "cell_type": "code",
   "execution_count": null,
   "id": "8b2bd031",
   "metadata": {},
   "outputs": [
    {
     "name": "stderr",
     "output_type": "stream",
     "text": [
      "\u001b[32m\u001b[1m   Resolving\u001b[22m\u001b[39m package versions...\n",
      "\u001b[36m\u001b[1m     Project\u001b[22m\u001b[39m No packages added to or removed from `C:\\Users\\jachy\\OneDrive\\IES\\mgr\\3.semestr\\Fineco\\assignement1\\Project.toml`\n",
      "\u001b[36m\u001b[1m    Manifest\u001b[22m\u001b[39m No packages added to or removed from `C:\\Users\\jachy\\OneDrive\\IES\\mgr\\3.semestr\\Fineco\\assignement1\\Manifest.toml`\n"
     ]
    }
   ],
   "source": [
    "# Pkg.add(\"DrWatson\")\n",
    "# using DrWatson\n",
    "# initialize_project(\"Assignment1\"; authors = \"Jáchym Janů\")\n",
    "# Pkg.add([\"Distributions\", \"Plots\", \"ForwardDiff\" , \"Optim\" , \"MarketData\" , \"YFinance\" , \"ARCHModels\", \"CSV\", \"DataFrames\"])"
   ]
  },
  {
   "cell_type": "code",
   "execution_count": 8,
   "id": "56b17469-b5c8-4bf5-a26f-98e2ad33b5d9",
   "metadata": {},
   "outputs": [],
   "source": [
    "using Distributions\n",
    "using Plots\n",
    "using ForwardDiff\n",
    "using Optim\n",
    "using MarketData\n",
    "using YFinance\n",
    "using ARCHModels\n",
    "using CSV\n",
    "using DataFrames"
   ]
  },
  {
   "cell_type": "code",
   "execution_count": 11,
   "id": "c1d8de98-8d81-4e5f-8804-6f388bb90cbb",
   "metadata": {},
   "outputs": [
    {
     "name": "stdout",
     "output_type": "stream",
     "text": [
      "\u001b[1m5×7 DataFrame\u001b[0m\n",
      "\u001b[1m Row \u001b[0m│\u001b[1m Date       \u001b[0m\u001b[1m Time     \u001b[0m\u001b[1m Open    \u001b[0m\u001b[1m High    \u001b[0m\u001b[1m Low     \u001b[0m\u001b[1m Close   \u001b[0m\u001b[1m Volume \u001b[0m\n",
      "     │\u001b[90m String15   \u001b[0m\u001b[90m Time     \u001b[0m\u001b[90m Float64 \u001b[0m\u001b[90m Float64 \u001b[0m\u001b[90m Float64 \u001b[0m\u001b[90m Float64 \u001b[0m\u001b[90m Int64  \u001b[0m\n",
      "─────┼──────────────────────────────────────────────────────────────────\n",
      "   1 │ 10/21/2021  11:30:00  18.65      19.44    18.65    19.44  335243\n",
      "   2 │ 10/21/2021  11:35:00  19.78      19.78    18.53    19.01  118936\n",
      "   3 │ 10/21/2021  11:40:00  19.03      19.37    19.0     19.25   30569\n",
      "   4 │ 10/21/2021  11:45:00  19.2995    20.65    19.03    20.21   51825\n",
      "   5 │ 10/21/2021  11:50:00  20.08      20.22    19.33    19.99   17243\n",
      "\u001b[1m5×7 DataFrame\u001b[0m\n",
      "\u001b[1m Row \u001b[0m│\u001b[1m Date       \u001b[0m\u001b[1m Time     \u001b[0m\u001b[1m Open    \u001b[0m\u001b[1m High    \u001b[0m\u001b[1m Low     \u001b[0m\u001b[1m Close   \u001b[0m\u001b[1m Volume \u001b[0m\n",
      "     │\u001b[90m String15   \u001b[0m\u001b[90m Time     \u001b[0m\u001b[90m Float64 \u001b[0m\u001b[90m Float64 \u001b[0m\u001b[90m Float64 \u001b[0m\u001b[90m Float64 \u001b[0m\u001b[90m Int64  \u001b[0m\n",
      "─────┼──────────────────────────────────────────────────────────────────\n",
      "   1 │ 01/07/2025  15:50:00    2.515    2.525     2.51    2.525   16733\n",
      "   2 │ 01/07/2025  15:55:00    2.525    2.53      2.51    2.515   37996\n",
      "   3 │ 01/07/2025  16:00:00    2.52     2.52      2.52    2.52    47711\n",
      "   4 │ 01/07/2025  17:20:00    2.43     2.43      2.43    2.43      976\n",
      "   5 │ 01/07/2025  17:25:00    2.43     2.43      2.43    2.43      101\n"
     ]
    }
   ],
   "source": [
    "# Load the VTYX data\n",
    "file_path = \"VTYX.txt\"\n",
    "column_names = [\n",
    "    :Date, \n",
    "    :Time, \n",
    "    :Open, \n",
    "    :High, \n",
    "    :Low, \n",
    "    :Close, \n",
    "    :Volume\n",
    "]\n",
    "\n",
    "data = CSV.read(\n",
    "    file_path, \n",
    "    DataFrame, \n",
    "    delim=',',            \n",
    "    ignorerepeated=true,\n",
    "    header=column_names \n",
    ")\n",
    "\n",
    "\n",
    "println(first(data, 5))\n",
    "println(last(data, 5))"
   ]
  },
  {
   "cell_type": "code",
   "execution_count": null,
   "id": "52d423ac-707a-4bcd-85d2-fd047f913937",
   "metadata": {},
   "outputs": [],
   "source": []
  }
 ],
 "metadata": {
  "kernelspec": {
   "display_name": "Julia 1.12.1",
   "language": "julia",
   "name": "julia-1.12"
  },
  "language_info": {
   "file_extension": ".jl",
   "mimetype": "application/julia",
   "name": "julia",
   "version": "1.12.1"
  }
 },
 "nbformat": 4,
 "nbformat_minor": 5
}
