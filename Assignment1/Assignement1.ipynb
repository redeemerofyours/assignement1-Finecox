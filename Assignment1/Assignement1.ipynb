{
 "cells": [
  {
   "cell_type": "markdown",
   "id": "6f407996",
   "metadata": {},
   "source": [
    "### PART A\n",
    "During the work on this assignement, AI tools Gemini, ChatGPT, Github - Copilot were used when writing the code and the texts. All of the outputs were checked and modified accordingly."
   ]
  },
  {
   "cell_type": "markdown",
   "id": "dbb63e9d",
   "metadata": {},
   "source": []
  }
 ],
 "metadata": {
  "kernelspec": {
   "display_name": "Julia 1.12.1",
   "language": "julia",
   "name": "julia-1.12"
  },
  "language_info": {
   "file_extension": ".jl",
   "mimetype": "application/julia",
   "name": "julia",
   "version": "1.12.1"
  }
 },
 "nbformat": 4,
 "nbformat_minor": 5
}
