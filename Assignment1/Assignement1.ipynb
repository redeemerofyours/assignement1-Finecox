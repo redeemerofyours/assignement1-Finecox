{
 "cells": [
  {
   "cell_type": "markdown",
   "id": "6f407996",
   "metadata": {},
   "source": [
    "## PART A\n",
    "During the work on this assignement, AI tools Gemini, ChatGPT, Github - Copilot and Grammarly were used when writing the code and the texts. All of the outputs were checked and modified accordingly."
   ]
  },
  {
   "cell_type": "code",
   "execution_count": null,
   "id": "0082f7d9",
   "metadata": {},
   "outputs": [],
   "source": [
    "import Pkg\n",
    "\n",
    "using DrWatson\n",
    "\n",
    "@quickactivate \n",
    "\n",
    "\n",
    "\n",
    "Pkg.status()\n",
    "\n",
    "include(srcdir(\"PartA_code.jl\"))"
   ]
  },
  {
   "cell_type": "markdown",
   "id": "dbb63e9d",
   "metadata": {},
   "source": []
  },
  {
   "cell_type": "markdown",
   "id": "43a0902b",
   "metadata": {},
   "source": [
    "#### 2) - 3)\n",
    "\n",
    "We chose the company Ventyx Biosciences with a ticker VTYX.\n",
    "\n",
    "We downloaded daily close price data from 21st October 2021 to 7th of January 2025.\n",
    "\n",
    "On the table below we can asses the basic summary statistics of our data.\n",
    "\n",
    "\n",
    "The minimum returns are much greater than the maximum returns, which is quite common for financial data.\n",
    "\n",
    "What we find interesting, though, is the kurtosis level, which is abnormally high, indicating significant clustering around the mean and heavier tails (essentially, the few extreme outliers of losses and gains). This is clearly observed in the histogram below, which compares our log-returns distribution with the normal one. \n",
    "\n"
   ]
  },
  {
   "cell_type": "code",
   "execution_count": null,
   "id": "3a8cd862",
   "metadata": {},
   "outputs": [],
   "source": [
    "display(summary_table)"
   ]
  },
  {
   "cell_type": "code",
   "execution_count": null,
   "id": "5f415db7",
   "metadata": {},
   "outputs": [],
   "source": [
    "display(hist)"
   ]
  },
  {
   "cell_type": "markdown",
   "id": "5f1fd21a",
   "metadata": {},
   "source": [
    "#### 3)\n",
    "\n",
    "Below, we plotted the log returns to observe the behaviour of our data.\n",
    "\n",
    "We may conclude that most of the jumps have no long-lasting effects on the following log-returns.\n",
    "\n",
    "It is also clear that the returns are mostly minimal throughout the time series."
   ]
  },
  {
   "cell_type": "code",
   "execution_count": null,
   "id": "919e0f8a",
   "metadata": {},
   "outputs": [],
   "source": [
    "display(p_ret)"
   ]
  },
  {
   "cell_type": "markdown",
   "id": "e3de044e",
   "metadata": {},
   "source": [
    "We went further and modelled weekly volatility. The method we chose is to calculate the standard deviation of the log-returns for the last five days. Hence, we observe greater consistency in volatility, as the effect of greater deviation persists for at least 5 days. Still, however, what is interesting is the limited effect of great volatility on the future volatility. This might be caused by the low liquidity of the market, as the significant deviations are driven by a few traders who sell or buy in large quantities. As the trade magnitude then decreases, the volatility of log-returns also diminishes. "
   ]
  },
  {
   "cell_type": "code",
   "execution_count": null,
   "id": "28a4a142",
   "metadata": {},
   "outputs": [],
   "source": [
    "display(p_vol)"
   ]
  },
  {
   "cell_type": "markdown",
   "id": "d7aa30d9",
   "metadata": {},
   "source": [
    "#### 4)\n",
    "\n",
    "As we should model our data using either ARCH or GARCH, we plot the ACF and PACF to determine which ARIMA model to fit.\n",
    "\n",
    "Since we observe no autocorrelation nor partial correlation at a 95% confidence level, we cannot fit any ARIMA model."
   ]
  },
  {
   "cell_type": "code",
   "execution_count": null,
   "id": "0a0d5954",
   "metadata": {},
   "outputs": [],
   "source": [
    "plot(acf_plot, pacf_plot, layout = (2, 1))"
   ]
  },
  {
   "cell_type": "markdown",
   "id": "6ac409f8",
   "metadata": {},
   "source": [
    "To confirm our suspicion of no ARCH effects, we conduct the ARCH LM test. We have done it for several lags; however, none of them could reject the H0 hypothesis of no ARCH effects. The results of the test for lag one are presented below."
   ]
  },
  {
   "cell_type": "code",
   "execution_count": null,
   "id": "904bd4b6",
   "metadata": {},
   "outputs": [],
   "source": [
    "ARCHLMTest_results"
   ]
  },
  {
   "cell_type": "markdown",
   "id": "ac9eef2c",
   "metadata": {},
   "source": [
    "#### 5)\n",
    "\n",
    "Still, we ought to fit and forecast the ARCH/GARCH model; hence, we chose GARCH(1,1) with a rolling 30-day forecast to estimate our data.\n",
    "\n",
    "Below, we compare the mean and volatility 1-day-ahead predictions of our model.\n",
    "\n",
    "\n",
    "As expected, the results are unfavourable, as the model is not a good fit for these types of data structures.\n",
    "\n",
    "Probably modelling these data through RV-HAR might give us more favourable results."
   ]
  },
  {
   "cell_type": "code",
   "execution_count": null,
   "id": "c5fa2adf",
   "metadata": {},
   "outputs": [],
   "source": [
    "display(Forecast_mean)"
   ]
  },
  {
   "cell_type": "code",
   "execution_count": null,
   "id": "a27755f9",
   "metadata": {},
   "outputs": [],
   "source": [
    "display(Forecast_volatility)"
   ]
  }
 ],
 "metadata": {
  "kernelspec": {
   "display_name": "Julia 1.12.1",
   "language": "julia",
   "name": "julia-1.12"
  },
  "language_info": {
   "file_extension": ".jl",
   "mimetype": "application/julia",
   "name": "julia",
   "version": "1.12.1"
  }
 },
 "nbformat": 4,
 "nbformat_minor": 5
}
